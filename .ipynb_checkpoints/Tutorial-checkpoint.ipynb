{
 "cells": [
  {
   "cell_type": "markdown",
   "id": "97551620",
   "metadata": {},
   "source": [
    "## Spark dataframes"
   ]
  },
  {
   "cell_type": "code",
   "execution_count": 1,
   "id": "18d6ecfb-6a49-4a6b-80a3-c62807bbd88d",
   "metadata": {},
   "outputs": [],
   "source": [
    "from pyspark.sql import SparkSession"
   ]
  },
  {
   "cell_type": "markdown",
   "id": "a2e77eb9",
   "metadata": {},
   "source": [
    "Initializing data frame."
   ]
  },
  {
   "cell_type": "code",
   "execution_count": 3,
   "id": "b64b2207-0281-4fa6-a547-1051dacc6a0e",
   "metadata": {},
   "outputs": [],
   "source": [
    "spark = SparkSession.builder.appName(\"Basics\").getOrCreate()"
   ]
  },
  {
   "cell_type": "code",
   "execution_count": 5,
   "id": "e0d0543f-9596-4a9a-b143-f529c853de9d",
   "metadata": {},
   "outputs": [
    {
     "name": "stdout",
     "output_type": "stream",
     "text": [
      "\u001b[0m\u001b[01;32m202106-divvy-tripdata.csv\u001b[0m*  Tutorial.ipynb\r\n"
     ]
    }
   ],
   "source": [
    "%ls"
   ]
  },
  {
   "cell_type": "code",
   "execution_count": 21,
   "id": "93332dfd-d372-4e61-a12f-5b681d3c7e2e",
   "metadata": {},
   "outputs": [],
   "source": [
    "FILENAME = \"data2.csv\"\n",
    "df = spark.read.options(header=\"True\", inferschema=\"False\", delimiter=\",\").csv(FILENAME)"
   ]
  },
  {
   "cell_type": "code",
   "execution_count": 22,
   "id": "b83a2444",
   "metadata": {},
   "outputs": [
    {
     "name": "stdout",
     "output_type": "stream",
     "text": [
      "+----------------+-------------+-------------------+-------------------+------------------+----------------+--------------------+--------------+---------+---------+------------------+----------+-------------+\n",
      "|         ride_id|rideable_type|         started_at|           ended_at|start_station_name|start_station_id|    end_station_name|end_station_id|start_lat|start_lng|           end_lat|   end_lng|member_casual|\n",
      "+----------------+-------------+-------------------+-------------------+------------------+----------------+--------------------+--------------+---------+---------+------------------+----------+-------------+\n",
      "|99FEC93BA843FB20|electric_bike|2021-06-13 14:31:28|2021-06-13 14:34:11|              null|            null|                null|          null|     41.8|   -87.59|              41.8|     -87.6|       member|\n",
      "|06048DCFC8520CAF|electric_bike|2021-06-04 11:18:02|2021-06-04 11:24:19|              null|            null|                null|          null|    41.79|   -87.59|              41.8|     -87.6|       member|\n",
      "|9598066F68045DF2|electric_bike|2021-06-04 09:49:35|2021-06-04 09:55:34|              null|            null|                null|          null|     41.8|    -87.6|             41.79|    -87.59|       member|\n",
      "|B03C0FE48C412214|electric_bike|2021-06-03 19:56:05|2021-06-03 20:21:55|              null|            null|                null|          null|    41.78|   -87.58|              41.8|     -87.6|       member|\n",
      "|B9EEA89F8FEE73B7|electric_bike|2021-06-04 14:05:51|2021-06-04 14:09:59|              null|            null|                null|          null|     41.8|   -87.59|             41.79|    -87.59|       member|\n",
      "|62B943CEAAA420BA|electric_bike|2021-06-03 19:32:01|2021-06-03 19:38:46|              null|            null|                null|          null|    41.78|   -87.58|             41.78|    -87.58|       member|\n",
      "|7E2546FBA79C46EE|electric_bike|2021-06-10 16:30:10|2021-06-10 16:36:21|              null|            null|                null|          null|    41.79|    -87.6|             41.79|    -87.59|       member|\n",
      "|3DDF3BBF6C4C3C89|electric_bike|2021-06-10 17:00:30|2021-06-10 17:06:48|              null|            null|                null|          null|    41.79|   -87.59|              41.8|    -87.59|       member|\n",
      "|2608805637155AB6|electric_bike|2021-06-10 12:46:16|2021-06-10 12:55:02|              null|            null|                null|          null|    41.93|   -87.67|             41.94|    -87.68|       member|\n",
      "|AF529C946F28ED42|electric_bike|2021-06-23 17:57:29|2021-06-23 18:06:40|              null|            null|Michigan Ave & Oa...|         13042|    41.88|   -87.61|41.901052166666666|-87.623698|       member|\n",
      "|E6010941FB92E4A6|electric_bike|2021-06-22 19:28:02|2021-06-22 19:39:48|              null|            null|                null|          null|    41.87|   -87.62|             41.87|    -87.64|       member|\n",
      "|1149C0723F7AFFD5|electric_bike|2021-06-29 17:35:49|2021-06-29 17:55:11|              null|            null|                null|          null|     41.9|   -87.63|              41.9|    -87.68|       member|\n",
      "|8762DB62099E6011|electric_bike|2021-06-05 14:55:05|2021-06-05 15:13:29|              null|            null|                null|          null|    41.89|   -87.62|             41.88|    -87.62|       member|\n",
      "|BE3AC77CBFF17E6A|electric_bike|2021-06-05 14:05:00|2021-06-05 14:09:01|              null|            null|                null|          null|    41.89|   -87.62|             41.89|    -87.62|       member|\n",
      "|8E9F2CB0893B96A0|electric_bike|2021-06-05 13:39:04|2021-06-05 13:57:21|              null|            null|                null|          null|    41.88|   -87.62|             41.89|    -87.62|       member|\n",
      "|6344B71B7BB6E09E|electric_bike|2021-06-22 18:52:53|2021-06-22 18:59:13|              null|            null|                null|          null|    41.79|   -87.59|              41.8|     -87.6|       member|\n",
      "|59CE9444E2ED2530|electric_bike|2021-06-02 10:30:11|2021-06-02 10:37:03|              null|            null|                null|          null|    41.79|    -87.6|              41.8|    -87.59|       member|\n",
      "|2D6929277855EBE5|electric_bike|2021-06-08 13:49:03|2021-06-08 13:53:01|              null|            null|                null|          null|    41.79|    -87.6|             41.78|     -87.6|       member|\n",
      "|F7107122A837A50B|electric_bike|2021-06-08 18:31:31|2021-06-08 18:38:25|              null|            null|                null|          null|    41.78|    -87.6|              41.8|     -87.6|       member|\n",
      "|45ABF9231CC02E3C|electric_bike|2021-06-07 22:24:08|2021-06-07 22:35:25|              null|            null|                null|          null|    41.79|   -87.58|             41.78|     -87.6|       member|\n",
      "+----------------+-------------+-------------------+-------------------+------------------+----------------+--------------------+--------------+---------+---------+------------------+----------+-------------+\n",
      "only showing top 20 rows\n",
      "\n"
     ]
    }
   ],
   "source": [
    "df.show()"
   ]
  },
  {
   "cell_type": "code",
   "execution_count": 23,
   "id": "c039738f",
   "metadata": {},
   "outputs": [
    {
     "name": "stdout",
     "output_type": "stream",
     "text": [
      "root\n",
      " |-- ride_id: string (nullable = true)\n",
      " |-- rideable_type: string (nullable = true)\n",
      " |-- started_at: string (nullable = true)\n",
      " |-- ended_at: string (nullable = true)\n",
      " |-- start_station_name: string (nullable = true)\n",
      " |-- start_station_id: string (nullable = true)\n",
      " |-- end_station_name: string (nullable = true)\n",
      " |-- end_station_id: string (nullable = true)\n",
      " |-- start_lat: string (nullable = true)\n",
      " |-- start_lng: string (nullable = true)\n",
      " |-- end_lat: string (nullable = true)\n",
      " |-- end_lng: string (nullable = true)\n",
      " |-- member_casual: string (nullable = true)\n",
      "\n"
     ]
    }
   ],
   "source": [
    "df.printSchema()"
   ]
  },
  {
   "cell_type": "code",
   "execution_count": 12,
   "id": "d11664f0",
   "metadata": {},
   "outputs": [
    {
     "data": {
      "text/plain": [
       "['ride_id',\n",
       " 'rideable_type',\n",
       " 'started_at',\n",
       " 'ended_at',\n",
       " 'start_station_name',\n",
       " 'start_station_id',\n",
       " 'end_station_name',\n",
       " 'end_station_id',\n",
       " 'start_lat',\n",
       " 'start_lng',\n",
       " 'end_lat',\n",
       " 'end_lng',\n",
       " 'member_casual']"
      ]
     },
     "execution_count": 12,
     "metadata": {},
     "output_type": "execute_result"
    }
   ],
   "source": [
    "df.columns"
   ]
  },
  {
   "cell_type": "code",
   "execution_count": 14,
   "id": "b39e4e04",
   "metadata": {},
   "outputs": [
    {
     "name": "stderr",
     "output_type": "stream",
     "text": [
      "[Stage 8:====================================>                      (5 + 3) / 8]\r"
     ]
    },
    {
     "name": "stdout",
     "output_type": "stream",
     "text": [
      "+-------+----------------+-------------+-------------------+-------------------+--------------------+-----------------+--------------------+------------------+--------------------+-------------------+-------------------+--------------------+-------------+\n",
      "|summary|         ride_id|rideable_type|         started_at|           ended_at|  start_station_name| start_station_id|    end_station_name|    end_station_id|           start_lat|          start_lng|            end_lat|             end_lng|member_casual|\n",
      "+-------+----------------+-------------+-------------------+-------------------+--------------------+-----------------+--------------------+------------------+--------------------+-------------------+-------------------+--------------------+-------------+\n",
      "|  count|          729595|       729595|             729595|             729595|              649502|           649502|              643208|            643208|              729595|             729595|             728878|              728878|       729595|\n",
      "|   mean|        Infinity|         null|               null|               null|                null|12527.16348899932|                null|12531.980210536638|   41.90350700249534| -87.64455277930516| 41.903886372017055|   -87.6448243824795|         null|\n",
      "| stddev|             NaN|         null|               null|               null|                null|4341.373442565405|                null| 4750.107551401416|0.042469749370780484|0.02598125680758955|0.04266104854560142|0.026239880953564262|         null|\n",
      "|    min|000002EBE159AE82| classic_bike|2021-06-01 00:00:38|2021-06-01 00:06:22| 2112 W Peterson Ave|            13001| 2112 W Peterson Ave|             13001|               41.64|             -87.78|              41.51|              -87.86|       casual|\n",
      "|    max|FFFFD75D0D64EA89|electric_bike|2021-06-30 23:59:59|2021-07-13 22:51:35|Yates Blvd & 93rd St|           WL-012|Yates Blvd & 93rd St|            WL-012|               42.07|             -87.52|              42.08|              -87.49|       member|\n",
      "+-------+----------------+-------------+-------------------+-------------------+--------------------+-----------------+--------------------+------------------+--------------------+-------------------+-------------------+--------------------+-------------+\n",
      "\n"
     ]
    },
    {
     "name": "stderr",
     "output_type": "stream",
     "text": [
      "\r",
      "                                                                                \r"
     ]
    }
   ],
   "source": [
    "df.describe().show()"
   ]
  },
  {
   "cell_type": "code",
   "execution_count": 19,
   "id": "4cd540d5",
   "metadata": {},
   "outputs": [],
   "source": [
    "from pyspark.sql.types import StructField, StringType, IntegerType, StructType"
   ]
  },
  {
   "cell_type": "code",
   "execution_count": 20,
   "id": "490bc99c",
   "metadata": {},
   "outputs": [],
   "source": [
    "data_schema = [\n",
    "    StructField(\"ride_id\", StringType(), True),\n",
    "    StructField(\"ride_id\", StringType(), True),\n",
    "]"
   ]
  },
  {
   "cell_type": "code",
   "execution_count": 24,
   "id": "a7b7e922",
   "metadata": {},
   "outputs": [
    {
     "name": "stdout",
     "output_type": "stream",
     "text": [
      "+----------------+\n",
      "|         ride_id|\n",
      "+----------------+\n",
      "|99FEC93BA843FB20|\n",
      "|06048DCFC8520CAF|\n",
      "|9598066F68045DF2|\n",
      "|B03C0FE48C412214|\n",
      "|B9EEA89F8FEE73B7|\n",
      "|62B943CEAAA420BA|\n",
      "|7E2546FBA79C46EE|\n",
      "|3DDF3BBF6C4C3C89|\n",
      "|2608805637155AB6|\n",
      "|AF529C946F28ED42|\n",
      "|E6010941FB92E4A6|\n",
      "|1149C0723F7AFFD5|\n",
      "|8762DB62099E6011|\n",
      "|BE3AC77CBFF17E6A|\n",
      "|8E9F2CB0893B96A0|\n",
      "|6344B71B7BB6E09E|\n",
      "|59CE9444E2ED2530|\n",
      "|2D6929277855EBE5|\n",
      "|F7107122A837A50B|\n",
      "|45ABF9231CC02E3C|\n",
      "+----------------+\n",
      "only showing top 20 rows\n",
      "\n"
     ]
    }
   ],
   "source": [
    "df.select(\"ride_id\").show()"
   ]
  },
  {
   "cell_type": "code",
   "execution_count": 25,
   "id": "ae30f954",
   "metadata": {},
   "outputs": [
    {
     "data": {
      "text/plain": [
       "[Row(ride_id='99FEC93BA843FB20', rideable_type='electric_bike', started_at='2021-06-13 14:31:28', ended_at='2021-06-13 14:34:11', start_station_name=None, start_station_id=None, end_station_name=None, end_station_id=None, start_lat='41.8', start_lng='-87.59', end_lat='41.8', end_lng='-87.6', member_casual='member'),\n",
       " Row(ride_id='06048DCFC8520CAF', rideable_type='electric_bike', started_at='2021-06-04 11:18:02', ended_at='2021-06-04 11:24:19', start_station_name=None, start_station_id=None, end_station_name=None, end_station_id=None, start_lat='41.79', start_lng='-87.59', end_lat='41.8', end_lng='-87.6', member_casual='member')]"
      ]
     },
     "execution_count": 25,
     "metadata": {},
     "output_type": "execute_result"
    }
   ],
   "source": [
    "df.head(2)"
   ]
  },
  {
   "cell_type": "code",
   "execution_count": 32,
   "id": "b018891b",
   "metadata": {},
   "outputs": [
    {
     "name": "stdout",
     "output_type": "stream",
     "text": [
      "+-------------------+-------------------+\n",
      "|         started_at|           ended_at|\n",
      "+-------------------+-------------------+\n",
      "|2021-06-13 14:31:28|2021-06-13 14:34:11|\n",
      "|2021-06-04 11:18:02|2021-06-04 11:24:19|\n",
      "|2021-06-04 09:49:35|2021-06-04 09:55:34|\n",
      "|2021-06-03 19:56:05|2021-06-03 20:21:55|\n",
      "|2021-06-04 14:05:51|2021-06-04 14:09:59|\n",
      "|2021-06-03 19:32:01|2021-06-03 19:38:46|\n",
      "|2021-06-10 16:30:10|2021-06-10 16:36:21|\n",
      "|2021-06-10 17:00:30|2021-06-10 17:06:48|\n",
      "|2021-06-10 12:46:16|2021-06-10 12:55:02|\n",
      "|2021-06-23 17:57:29|2021-06-23 18:06:40|\n",
      "|2021-06-22 19:28:02|2021-06-22 19:39:48|\n",
      "|2021-06-29 17:35:49|2021-06-29 17:55:11|\n",
      "|2021-06-05 14:55:05|2021-06-05 15:13:29|\n",
      "|2021-06-05 14:05:00|2021-06-05 14:09:01|\n",
      "|2021-06-05 13:39:04|2021-06-05 13:57:21|\n",
      "|2021-06-22 18:52:53|2021-06-22 18:59:13|\n",
      "|2021-06-02 10:30:11|2021-06-02 10:37:03|\n",
      "|2021-06-08 13:49:03|2021-06-08 13:53:01|\n",
      "|2021-06-08 18:31:31|2021-06-08 18:38:25|\n",
      "|2021-06-07 22:24:08|2021-06-07 22:35:25|\n",
      "+-------------------+-------------------+\n",
      "only showing top 20 rows\n",
      "\n"
     ]
    }
   ],
   "source": [
    "df.select([\"started_at\", \"ended_at\"]).show()"
   ]
  },
  {
   "cell_type": "code",
   "execution_count": 38,
   "id": "328534f2",
   "metadata": {},
   "outputs": [
    {
     "name": "stdout",
     "output_type": "stream",
     "text": [
      "+----------+\n",
      "|new_rideid|\n",
      "+----------+\n",
      "|      null|\n",
      "|      null|\n",
      "|      null|\n",
      "|      null|\n",
      "|      null|\n",
      "|      null|\n",
      "|      null|\n",
      "|      null|\n",
      "|      null|\n",
      "|      null|\n",
      "|      null|\n",
      "|      null|\n",
      "|      null|\n",
      "|      null|\n",
      "|      null|\n",
      "|      null|\n",
      "|      null|\n",
      "|      null|\n",
      "|      null|\n",
      "|      null|\n",
      "+----------+\n",
      "only showing top 20 rows\n",
      "\n"
     ]
    }
   ],
   "source": [
    "df.withColumn(\"new_rideid\", df[\"ride_id\"] + \" new\").select(\"new_rideid\").show()"
   ]
  },
  {
   "cell_type": "code",
   "execution_count": 39,
   "id": "4c461612",
   "metadata": {},
   "outputs": [
    {
     "name": "stdout",
     "output_type": "stream",
     "text": [
      "+----------------+-------------+-------------------+-------------------+------------------+----------------+--------------------+--------------+---------+---------+------------------+----------+-------------+\n",
      "|       travel_id|rideable_type|         started_at|           ended_at|start_station_name|start_station_id|    end_station_name|end_station_id|start_lat|start_lng|           end_lat|   end_lng|member_casual|\n",
      "+----------------+-------------+-------------------+-------------------+------------------+----------------+--------------------+--------------+---------+---------+------------------+----------+-------------+\n",
      "|99FEC93BA843FB20|electric_bike|2021-06-13 14:31:28|2021-06-13 14:34:11|              null|            null|                null|          null|     41.8|   -87.59|              41.8|     -87.6|       member|\n",
      "|06048DCFC8520CAF|electric_bike|2021-06-04 11:18:02|2021-06-04 11:24:19|              null|            null|                null|          null|    41.79|   -87.59|              41.8|     -87.6|       member|\n",
      "|9598066F68045DF2|electric_bike|2021-06-04 09:49:35|2021-06-04 09:55:34|              null|            null|                null|          null|     41.8|    -87.6|             41.79|    -87.59|       member|\n",
      "|B03C0FE48C412214|electric_bike|2021-06-03 19:56:05|2021-06-03 20:21:55|              null|            null|                null|          null|    41.78|   -87.58|              41.8|     -87.6|       member|\n",
      "|B9EEA89F8FEE73B7|electric_bike|2021-06-04 14:05:51|2021-06-04 14:09:59|              null|            null|                null|          null|     41.8|   -87.59|             41.79|    -87.59|       member|\n",
      "|62B943CEAAA420BA|electric_bike|2021-06-03 19:32:01|2021-06-03 19:38:46|              null|            null|                null|          null|    41.78|   -87.58|             41.78|    -87.58|       member|\n",
      "|7E2546FBA79C46EE|electric_bike|2021-06-10 16:30:10|2021-06-10 16:36:21|              null|            null|                null|          null|    41.79|    -87.6|             41.79|    -87.59|       member|\n",
      "|3DDF3BBF6C4C3C89|electric_bike|2021-06-10 17:00:30|2021-06-10 17:06:48|              null|            null|                null|          null|    41.79|   -87.59|              41.8|    -87.59|       member|\n",
      "|2608805637155AB6|electric_bike|2021-06-10 12:46:16|2021-06-10 12:55:02|              null|            null|                null|          null|    41.93|   -87.67|             41.94|    -87.68|       member|\n",
      "|AF529C946F28ED42|electric_bike|2021-06-23 17:57:29|2021-06-23 18:06:40|              null|            null|Michigan Ave & Oa...|         13042|    41.88|   -87.61|41.901052166666666|-87.623698|       member|\n",
      "|E6010941FB92E4A6|electric_bike|2021-06-22 19:28:02|2021-06-22 19:39:48|              null|            null|                null|          null|    41.87|   -87.62|             41.87|    -87.64|       member|\n",
      "|1149C0723F7AFFD5|electric_bike|2021-06-29 17:35:49|2021-06-29 17:55:11|              null|            null|                null|          null|     41.9|   -87.63|              41.9|    -87.68|       member|\n",
      "|8762DB62099E6011|electric_bike|2021-06-05 14:55:05|2021-06-05 15:13:29|              null|            null|                null|          null|    41.89|   -87.62|             41.88|    -87.62|       member|\n",
      "|BE3AC77CBFF17E6A|electric_bike|2021-06-05 14:05:00|2021-06-05 14:09:01|              null|            null|                null|          null|    41.89|   -87.62|             41.89|    -87.62|       member|\n",
      "|8E9F2CB0893B96A0|electric_bike|2021-06-05 13:39:04|2021-06-05 13:57:21|              null|            null|                null|          null|    41.88|   -87.62|             41.89|    -87.62|       member|\n",
      "|6344B71B7BB6E09E|electric_bike|2021-06-22 18:52:53|2021-06-22 18:59:13|              null|            null|                null|          null|    41.79|   -87.59|              41.8|     -87.6|       member|\n",
      "|59CE9444E2ED2530|electric_bike|2021-06-02 10:30:11|2021-06-02 10:37:03|              null|            null|                null|          null|    41.79|    -87.6|              41.8|    -87.59|       member|\n",
      "|2D6929277855EBE5|electric_bike|2021-06-08 13:49:03|2021-06-08 13:53:01|              null|            null|                null|          null|    41.79|    -87.6|             41.78|     -87.6|       member|\n",
      "|F7107122A837A50B|electric_bike|2021-06-08 18:31:31|2021-06-08 18:38:25|              null|            null|                null|          null|    41.78|    -87.6|              41.8|     -87.6|       member|\n",
      "|45ABF9231CC02E3C|electric_bike|2021-06-07 22:24:08|2021-06-07 22:35:25|              null|            null|                null|          null|    41.79|   -87.58|             41.78|     -87.6|       member|\n",
      "+----------------+-------------+-------------------+-------------------+------------------+----------------+--------------------+--------------+---------+---------+------------------+----------+-------------+\n",
      "only showing top 20 rows\n",
      "\n"
     ]
    }
   ],
   "source": [
    "df.withColumnRenamed(\"ride_id\", \"travel_id\").show()"
   ]
  },
  {
   "cell_type": "code",
   "execution_count": 40,
   "id": "9f6242bd",
   "metadata": {},
   "outputs": [],
   "source": [
    "df.createOrReplaceTempView(\"rides\")"
   ]
  },
  {
   "cell_type": "code",
   "execution_count": 42,
   "id": "e0b906a6",
   "metadata": {},
   "outputs": [
    {
     "name": "stdout",
     "output_type": "stream",
     "text": [
      "+----------------+-------------+-------------------+-------------------+------------------+----------------+----------------+--------------+---------+---------+-------+-------+-------------+\n",
      "|         ride_id|rideable_type|         started_at|           ended_at|start_station_name|start_station_id|end_station_name|end_station_id|start_lat|start_lng|end_lat|end_lng|member_casual|\n",
      "+----------------+-------------+-------------------+-------------------+------------------+----------------+----------------+--------------+---------+---------+-------+-------+-------------+\n",
      "|99FEC93BA843FB20|electric_bike|2021-06-13 14:31:28|2021-06-13 14:34:11|              null|            null|            null|          null|     41.8|   -87.59|   41.8|  -87.6|       member|\n",
      "+----------------+-------------+-------------------+-------------------+------------------+----------------+----------------+--------------+---------+---------+-------+-------+-------------+\n",
      "\n"
     ]
    }
   ],
   "source": [
    "results = spark.sql(\"SELECT * FROM rides LIMIT 1\")\n",
    "results.show()"
   ]
  },
  {
   "cell_type": "code",
   "execution_count": 45,
   "id": "3af6fe8a",
   "metadata": {},
   "outputs": [
    {
     "name": "stdout",
     "output_type": "stream",
     "text": [
      "+--------+\n",
      "|count(1)|\n",
      "+--------+\n",
      "|  242859|\n",
      "+--------+\n",
      "\n"
     ]
    }
   ],
   "source": [
    "new_results = spark.sql(\"SELECT count(*) FROM rides where rideable_type='electric_bike'\")\n",
    "new_results.show()"
   ]
  },
  {
   "cell_type": "code",
   "execution_count": null,
   "id": "7d06df70",
   "metadata": {},
   "outputs": [],
   "source": []
  }
 ],
 "metadata": {
  "kernelspec": {
   "display_name": "Python 3 (ipykernel)",
   "language": "python",
   "name": "python3"
  },
  "language_info": {
   "codemirror_mode": {
    "name": "ipython",
    "version": 3
   },
   "file_extension": ".py",
   "mimetype": "text/x-python",
   "name": "python",
   "nbconvert_exporter": "python",
   "pygments_lexer": "ipython3",
   "version": "3.8.10"
  }
 },
 "nbformat": 4,
 "nbformat_minor": 5
}
